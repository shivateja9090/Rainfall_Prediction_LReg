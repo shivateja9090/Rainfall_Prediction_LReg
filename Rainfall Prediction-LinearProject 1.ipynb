import numpy as np
import pandas as pd
import math
import matplotlib.pyplot as plt

In [1]:
dataset.groupby('SUBDIVISION').size()
Out[1]:
SUBDIVISION
ANDAMAN & NICOBAR ISLANDS             110
ARUNACHAL PRADESH                      97
ASSAM & MEGHALAYA                     115
BIHAR                                 115
CHHATTISGARH                          115
COASTAL ANDHRA PRADESH                115
COASTAL KARNATAKA                     115
EAST MADHYA PRADESH                   115
EAST RAJASTHAN                        115
EAST UTTAR PRADESH                    115
GANGETIC WEST BENGAL                  115
GUJARAT REGION                        115
HARYANA DELHI & CHANDIGARH            115
HIMACHAL PRADESH                      115
JAMMU & KASHMIR                       115
JHARKHAND                             115
KERALA                                115
KONKAN & GOA                          115
LAKSHADWEEP                           114
MADHYA MAHARASHTRA                    115
MATATHWADA                            115
NAGA MANI MIZO TRIPURA                115
NORTH INTERIOR KARNATAKA              115
ORISSA                                115
PUNJAB                                115
RAYALSEEMA                            115
SAURASHTRA & KUTCH                    115
SOUTH INTERIOR KARNATAKA              115
SUB HIMALAYAN WEST BENGAL & SIKKIM    115
TAMIL NADU                            115
TELANGANA                             115
UTTARAKHAND                           115
VIDARBHA                              115
WEST MADHYA PRADESH                   115
WEST RAJASTHAN                        115
WEST UTTAR PRADESH                    115
dtype: int64

In [2]:
print("Comparative plotting between Annual Rainfall in all states and that in January in all states.")
plt.scatter(dataset.ANNUAL, dataset.JAN)
Comparative plotting between Annual Rainfall in all states and that in January in all states.
Out[2]:
<matplotlib.collections.PathCollection at 0xa810ca4cc0>


In [3]:
print("Informative plotting of the Annual Rainfall in all states.")
dataset['ANNUAL'].hist(bins = 20)
Informative plotting of the Annual Rainfall in all states.
Out[3]:
<matplotlib.axes._subplots.AxesSubplot at 0xa810d196a0>
